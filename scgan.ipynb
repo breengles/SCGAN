{
 "cells": [
  {
   "cell_type": "code",
   "execution_count": 80,
   "metadata": {},
   "outputs": [],
   "source": [
    "from models.SCGAN import SCGAN\n",
    "from SCDataset.SCDataset import SCDataLoader\n",
    "from models.models import create_model\n",
    "\n"
   ]
  },
  {
   "cell_type": "code",
   "execution_count": 85,
   "metadata": {},
   "outputs": [],
   "source": [
    "class Options:\n",
    "    def __init__(self,\n",
    "                 phase = \"train\",\n",
    "                 beta1 = 0.5,\n",
    "                 beta2 = 0.999,\n",
    "                 g_lr = 2e-4,\n",
    "                 d_lr = 2e-4,\n",
    "                 lambda_A = 10.0,\n",
    "                 lambda_B = 10.0,\n",
    "                 lambda_idt = 0.5,\n",
    "                 lambda_his_lip=1.0,\n",
    "                 lambda_his_skin=0.1,\n",
    "                 lambda_his_eye=1.0,\n",
    "                 lambda_vgg=5e-3,\n",
    "                 num_epochs=100,\n",
    "                 epochs_decay=0,\n",
    "                 g_step=1,\n",
    "                 log_step=8,\n",
    "                 save_step=2048,\n",
    "                 snapshot_path=\"./checkpoints/\",\n",
    "                 save_path=\"./results/\",\n",
    "                 snapshot_step=10,\n",
    "                 perceptual_layers=3,\n",
    "                 partial=False,\n",
    "                 interpolation=False,\n",
    "                 init_type=\"xavier\",\n",
    "                 dataroot=\"MT-Dataset/images\",\n",
    "                 dirmap=\"MT-Dataset/parsing\",\n",
    "                 batchSize=1,\n",
    "                 input_nc=3,\n",
    "                 img_size=256,\n",
    "                 output_nc=3,\n",
    "                 d_conv_dim=64,\n",
    "                 d_repeat_num=3,\n",
    "                 ngf=64,\n",
    "                 gpu_ids=\"0\",\n",
    "                 nThreads=2,\n",
    "                 norm1=\"SN\",\n",
    "                 serial_batches=True,\n",
    "                 n_components=3,\n",
    "                 n_res=3,\n",
    "                 padding_type=\"reflect\",\n",
    "                 use_flip=0,\n",
    "                 n_downsampling=2,\n",
    "                 style_dim=192,\n",
    "                 mlp_dim=256):\n",
    "        self.phase = phase\n",
    "        self.beta1 = beta1\n",
    "        self.beta2 = beta2\n",
    "        self.g_lr = g_lr\n",
    "        self.d_lr = d_lr\n",
    "        self.lambda_A = lambda_A\n",
    "        self.lambda_B = lambda_B\n",
    "        self.lambda_idt = lambda_idt\n",
    "        self.lambda_his_lip = lambda_his_lip\n",
    "        self.lambda_his_skin = lambda_his_skin\n",
    "        self.lambda_his_eye = lambda_his_eye\n",
    "        self.lambda_vgg = lambda_vgg\n",
    "        self.num_epochs = num_epochs\n",
    "        self.epochs_decay = epochs_decay\n",
    "        self.g_step = g_step\n",
    "        self.log_step = log_step\n",
    "        self.save_step = save_step\n",
    "        self.snapshot_path = snapshot_path\n",
    "        self.save_path = save_path\n",
    "        self.snapshot_step = snapshot_step\n",
    "        self.perceptual_layers = perceptual_layers\n",
    "        self.partial = partial\n",
    "        self.interpolation = interpolation\n",
    "\n",
    "        self.init_type = init_type\n",
    "        self.dataroot = dataroot\n",
    "        self.dirmap = dirmap\n",
    "        self.batchSize = batchSize\n",
    "        self.input_nc = input_nc\n",
    "        self.img_size = img_size\n",
    "        self.output_nc = output_nc\n",
    "        self.d_conv_dim = d_conv_dim\n",
    "        self.d_repeat_num = d_repeat_num\n",
    "        self.ngf = ngf\n",
    "        self.gpu_ids = gpu_ids\n",
    "        self.nThreads = nThreads\n",
    "        self.norm1 = norm1\n",
    "        self.serial_batches = serial_batches\n",
    "        self.n_components = n_components\n",
    "        self.n_res = n_res\n",
    "        self.padding_type = padding_type\n",
    "        self.use_flip = use_flip\n",
    "        self.n_downsampling = n_downsampling\n",
    "        self.style_dim = style_dim\n",
    "        self.mlp_dim = mlp_dim"
   ]
  },
  {
   "cell_type": "code",
   "execution_count": 86,
   "outputs": [],
   "source": [
    "opt = Options(phase=\"test\")"
   ],
   "metadata": {
    "collapsed": false,
    "pycharm": {
     "name": "#%%\n"
    }
   }
  },
  {
   "cell_type": "code",
   "execution_count": 87,
   "outputs": [],
   "source": [
    "# dataloader = SCDataLoader(opt)\n",
    "# SCGan = create_model(opt, dataloader)\n",
    "# SCGan.test()"
   ],
   "metadata": {
    "collapsed": false,
    "pycharm": {
     "name": "#%%\n"
    }
   }
  }
 ],
 "metadata": {
  "interpreter": {
   "hash": "58f4131e16bae183d805153abd4d758d37eefdecf8ebf14c2d1024a16030191c"
  },
  "kernelspec": {
   "display_name": "Python 3.8.11 64-bit ('ml': pyenv)",
   "language": "python",
   "name": "python3"
  },
  "language_info": {
   "codemirror_mode": {
    "name": "ipython",
    "version": 3
   },
   "file_extension": ".py",
   "mimetype": "text/x-python",
   "name": "python",
   "nbconvert_exporter": "python",
   "pygments_lexer": "ipython3",
   "version": "3.8.11"
  },
  "orig_nbformat": 4
 },
 "nbformat": 4,
 "nbformat_minor": 2
}